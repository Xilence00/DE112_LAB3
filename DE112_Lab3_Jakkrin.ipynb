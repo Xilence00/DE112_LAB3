{
  "nbformat": 4,
  "nbformat_minor": 0,
  "metadata": {
    "colab": {
      "name": "DE112_Lab3_Jakkrin.ipynb",
      "provenance": [],
      "collapsed_sections": [],
      "toc_visible": true
    },
    "kernelspec": {
      "name": "python3",
      "display_name": "Python 3"
    },
    "language_info": {
      "name": "python"
    }
  },
  "cells": [
    {
      "cell_type": "markdown",
      "metadata": {
        "id": "WulpMZvqNEzA"
      },
      "source": [
        "# Lab 3 Collection datatypes\n",
        "\n",
        "Objectives:\n",
        "\n",
        "1. Learn how to declare and assign value to list, tuple, set, dict variables.\n",
        "2. Learn how to retrieve data from list, tuple, set, dict variables"
      ]
    },
    {
      "cell_type": "markdown",
      "metadata": {
        "id": "hOBSOzGGu2EI"
      },
      "source": [
        "# Datatypes\n",
        "In python 3, there are 5 groups of standard datatypes available\n",
        "1. **Boolean**: the value contains either True or False\n",
        "        isMember = True\n",
        "2. **Numeric**: the real number either whole number(int datatype) or floating point (float datatype),  or complex number (complex datatype) \n",
        "        age = 20\n",
        "        print(type(age) \n",
        "        weight = 55.20\n",
        "        print(type(weight) \n",
        "        coefficient = 1+2j\n",
        "        print(type(coefficient) \n",
        "3. **Sequences**: the collection of objects stored in sequencial order. \n",
        "        age_list = [15,14,14]\n",
        "        print(age_list)\n"
      ]
    },
    {
      "cell_type": "markdown",
      "metadata": {
        "id": "dd_U1fb-jTxj"
      },
      "source": [
        "\n",
        "\n",
        "*   String is a sequence of characters. This datatype often use to handle text formated data. Single quote or double quote can be used to create a string within one-line, and tripple quote is used to create a string across multiple line.\n",
        "\n",
        "        str_name = \"John\"\n",
        "        str_surname = 'Doh'\n",
        "        str_description = '''Single quote or double quote can be used to create a string within one-line, \n",
        "        and tripple quote is used to create a string across multiple line.'''\n",
        "\n",
        "*   List is a sequence of mutable objects. List operators are the following\n",
        "\n",
        "  - Creating list:\t\n",
        "\n",
        "          name_list = ['Bobs','Alice','john']\t\n",
        "\n",
        "  - Accessing the object in list: \n",
        "          name_list[0]\n",
        "\n",
        "   - Deleting the object in list: \n",
        "          del name_list[0]\n",
        "\n",
        "   - Updating the object in list\n",
        "          name_list[0] = 'New user'\n",
        "   - Adding an object to the list:\n",
        "\n",
        "          name_list.append(‘Napa’) \t\n",
        "    - Determine the number of objects in list: len()\n",
        "          len(name_list) \n",
        "\n",
        "*   Tuple is a sequence of immutable objects (allowing faster execution). Tuple operators are the following \n",
        "\n",
        "  - Creating list:\t\n",
        "\n",
        "          name_tuple = ('Bobs','Alice','john')\t\n",
        "\n",
        "  - Accessing the object in list: \n",
        "          name_tuple[0]\n",
        "  - Determine the number of objects in list: len()\n",
        "          len(name_tuple) \n",
        "\n",
        "  "
      ]
    },
    {
      "cell_type": "code",
      "metadata": {
        "colab": {
          "base_uri": "https://localhost:8080/"
        },
        "outputId": "dd399b60-0e4b-4fe6-e974-1d127c27d278",
        "id": "Df_lqyZ0jTxk"
      },
      "source": [
        "str_name = \"John\"\n",
        "str_surname = 'Doh'\n",
        "str_description = '''Single quote or double quote can be used to \n",
        "  create a string within one-line, and tripple quote is used to create \n",
        "  a string across multiple line.'''\n",
        "print(str_name)\n",
        "print(str_name[0])\n",
        "print(str_description)"
      ],
      "execution_count": null,
      "outputs": [
        {
          "output_type": "stream",
          "text": [
            "John\n",
            "J\n",
            "Single quote or double quote can be used to \n",
            "  create a string within one-line, and tripple quote is used to create \n",
            "  a string across multiple line.\n"
          ],
          "name": "stdout"
        }
      ]
    },
    {
      "cell_type": "markdown",
      "source": [
        "4. **Set**:  the collection of objects stored in unorder manner where storing duplication of objects are not allowed\n",
        "        fruit_set = {'Apple','Banana','Coconut'}\n",
        "        print(fruit_set)\n",
        "5. **Dictionary**:  the collection of key-value pairs stored in unorder manner where storing duplication of objects are not allowed\n",
        "        students_dict = {'1001':'Bobs','1008':'Delan','1010':'Doe'}\n",
        "        print(students_dict)"
      ],
      "metadata": {
        "id": "pKmi-chejkCk"
      }
    },
    {
      "cell_type": "code",
      "metadata": {
        "colab": {
          "base_uri": "https://localhost:8080/"
        },
        "outputId": "7c9c7ced-81f3-4cb6-b0a5-cfc94bb4fd54",
        "id": "QxpE1Gc6jauz"
      },
      "source": [
        "thisdict = {\n",
        "  \"brand\": \"Ford\",\n",
        "  \"model\": \"Mustang\",\n",
        "  \"year\": 1964\n",
        "}\n",
        "thisdict['color'] = 'yellow'\n",
        "thisdict.update({'color': 'yellow1'})\n",
        "thisdict['color'] = 'red'\n",
        "\n",
        "print(thisdict)"
      ],
      "execution_count": null,
      "outputs": [
        {
          "output_type": "stream",
          "text": [
            "{'brand': 'Ford', 'model': 'Mustang', 'year': 1964, 'color': 'red'}\n"
          ],
          "name": "stdout"
        }
      ]
    },
    {
      "cell_type": "markdown",
      "metadata": {
        "id": "o1mD4Oo4jauz"
      },
      "source": [
        "**Exercise #:** Write code to create a collection variable named carCollection with 5 member: 'Benz', 'Honda', 'Toyota', 'BMW', 'MG' with the following datatypes:\n",
        " 1. set\n",
        " 2. tuple\n",
        " 3. list\n"
      ]
    },
    {
      "cell_type": "code",
      "metadata": {
        "colab": {
          "base_uri": "https://localhost:8080/"
        },
        "outputId": "28593dea-acd0-4302-8496-af169d36ebde",
        "id": "0YBcKURdjau0"
      },
      "source": [
        "carCollection = []\n",
        "# 1. set\n",
        "\n",
        "print('1. ',type(carCollection))\n",
        "# 2. tuple\n",
        "\n",
        "print('2. ',type(carCollection))\n",
        "# 3. list\n",
        "\n",
        "print('3. ',type(carCollection))"
      ],
      "execution_count": null,
      "outputs": [
        {
          "output_type": "stream",
          "text": [
            "1.  <class 'list'>\n",
            "2.  <class 'list'>\n",
            "3.  <class 'list'>\n"
          ],
          "name": "stdout"
        }
      ]
    },
    {
      "cell_type": "code",
      "metadata": {
        "colab": {
          "base_uri": "https://localhost:8080/"
        },
        "outputId": "7c9c7ced-81f3-4cb6-b0a5-cfc94bb4fd54",
        "id": "ZrRJ3ZWQjTxl"
      },
      "source": [
        "thisdict = {\n",
        "  \"brand\": \"Ford\",\n",
        "  \"model\": \"Mustang\",\n",
        "  \"year\": 1964\n",
        "}\n",
        "thisdict['color'] = 'yellow'\n",
        "thisdict.update({'color': 'yellow1'})\n",
        "thisdict['color'] = 'red'\n",
        "\n",
        "print(thisdict)"
      ],
      "execution_count": null,
      "outputs": [
        {
          "output_type": "stream",
          "text": [
            "{'brand': 'Ford', 'model': 'Mustang', 'year': 1964, 'color': 'red'}\n"
          ],
          "name": "stdout"
        }
      ]
    },
    {
      "cell_type": "code",
      "metadata": {
        "colab": {
          "base_uri": "https://localhost:8080/"
        },
        "outputId": "28593dea-acd0-4302-8496-af169d36ebde",
        "id": "eBclx6qOjTxl"
      },
      "source": [
        "carCollection = []\n",
        "# 1. set\n",
        "\n",
        "print('1. ',type(carCollection))\n",
        "# 2. tuple\n",
        "\n",
        "print('2. ',type(carCollection))\n",
        "# 3. list\n",
        "\n",
        "print('3. ',type(carCollection))"
      ],
      "execution_count": null,
      "outputs": [
        {
          "output_type": "stream",
          "text": [
            "1.  <class 'list'>\n",
            "2.  <class 'list'>\n",
            "3.  <class 'list'>\n"
          ],
          "name": "stdout"
        }
      ]
    },
    {
      "cell_type": "code",
      "source": [
        ""
      ],
      "metadata": {
        "id": "0DzbGOmxj8WL"
      },
      "execution_count": null,
      "outputs": []
    },
    {
      "cell_type": "markdown",
      "metadata": {
        "id": "RJxMLl191S_8"
      },
      "source": [
        "# Question 1 (2 pt) String construction\n",
        "\n",
        "Write code to perform the following string operators\n",
        "- take first name and last name from a user's name and \n",
        "- construct the username for that user by concatenating the first chracter of first name with the last name with '_' in between them\n",
        "\n",
        "\n",
        "```\n",
        "Enter your first name and last name: John Doe \n",
        "====================\n",
        "Your username is: J_Doe\n",
        "```\n",
        "\n",
        "```\n",
        "Enter your first name and last name: Siri iOS \n",
        "====================\n",
        "Your username is: S_iOS\n",
        "```\n",
        "\n"
      ]
    },
    {
      "cell_type": "code",
      "source": [
        "First,Last = input((\"Enter your first name and last name: \")).split()\n",
        "username = First[0] +\"_\"+Last[0:3]\n",
        "print(\"Your username is:\",username)"
      ],
      "metadata": {
        "id": "Z3qgC3h_Hly-",
        "colab": {
          "base_uri": "https://localhost:8080/"
        },
        "outputId": "ca31fb87-6512-4291-c898-24eb15e61dcf"
      },
      "execution_count": null,
      "outputs": [
        {
          "output_type": "stream",
          "name": "stdout",
          "text": [
            "Enter your first name and last name: Mix kub\n",
            "Your username is: M_kub\n"
          ]
        }
      ]
    },
    {
      "cell_type": "markdown",
      "source": [
        "#Question 2 (2 pt): List construction and modification\n",
        "Write code to \n",
        "1. Create list named 'direction' with 4 objects: 'North','East','South','West' \n",
        "2. Adding the object 'South-West' between 'South' and 'West'\n",
        "3. Determine the direction list length (number of objects)"
      ],
      "metadata": {
        "id": "HyRL30vTII6u"
      }
    },
    {
      "cell_type": "code",
      "metadata": {
        "id": "CpspVAcWLyJz",
        "colab": {
          "base_uri": "https://localhost:8080/"
        },
        "outputId": "3070b322-8f8c-45e4-de46-0cf1d22b6ac9"
      },
      "source": [
        "#  a. Create list named 'direction' with 4 objects: 'North','East','South','West' \n",
        "# Put your code here\n",
        "direction = [\"North\",\"East\",\"South\",\"West\"]\n",
        "print (\"direction[0]: \", direction[0])\n",
        "print (\"direction[1]: \", direction[1])\n",
        "print (\"direction[2]: \", direction[2])\n",
        "print (\"direction[3]: \", direction[3])\n",
        "#  b. Then, adding the object 'South-West' between 'South' and 'West'\n",
        "# Put your code here\n",
        "direction.insert(3,\"South-West\")\n",
        "print(direction)\n",
        "#  c. Determine the direction list length (number of objects)\n",
        "# Put your code here\n",
        "Num = len(direction)\n",
        "print ('the number element in the list named direction is:',Num)\n"
      ],
      "execution_count": null,
      "outputs": [
        {
          "output_type": "stream",
          "name": "stdout",
          "text": [
            "direction[0]:  North\n",
            "direction[1]:  East\n",
            "direction[2]:  South\n",
            "direction[3]:  West\n",
            "['North', 'East', 'South', 'South-West', 'West']\n",
            "the number element in the list named direction is: 5\n"
          ]
        }
      ]
    },
    {
      "cell_type": "markdown",
      "metadata": {
        "id": "Q6UpuvwE2BGw"
      },
      "source": [
        "# Question 3 (2 pt) Word processing in Python\n",
        "```\n",
        "str_1 = '''Bitcoin is a decentralized digital currency that can be transferred on the peer-to-peer bitcoin network. Bitcoin transactions are verified by network nodes through cryptography and recorded in a public distributed ledger called a blockchain.'''\n",
        "\n",
        "str_2 = '''Ethereum is a decentralized, open-source blockchain with smart contract functionality. Ether is the native cryptocurrency of the platform. Among cryptocurrencies, Ether is second only to Bitcoin in market capitalization. Ethereum was conceived in 2013 by programmer Vitalik Buterin.'''\n",
        "```\n",
        "Given the following two paragraphs, \n",
        "- find the set of words that are in both paragraphs\n",
        "- find the set of words that are in the first paragraph but not in - the second paragraph\n",
        "- find the set of words that are in either of both paragraphs\n",
        "\n",
        "\n",
        "\n",
        "\n",
        "\n"
      ]
    },
    {
      "cell_type": "code",
      "source": [
        "str_1 = '''Bitcoin is a decentralized digital currency that can be transferred \n",
        "on the peer-to-peer bitcoin network . Bitcoin transactions are verified by network \n",
        "nodes through cryptography and recorded in a public distributed ledger called a blockchain .'''\n",
        "\n",
        "str_2 = '''Ethereum is a decentralized and open-source blockchain with smart \n",
        "contract functionality . Ether is the native cryptocurrency of the platform . \n",
        "Among cryptocurrencies , Ether is second only to Bitcoin in market capitalization . \n",
        "Ethereum was conceived in 2013 by programmer Vitalik Buterin .'''\n",
        "str_1_set = set(str_1.split())\n",
        "str_2_set = set(str_2.split())\n",
        "print(str_1_set|str_2_set)"
      ],
      "metadata": {
        "id": "CYp_SDoVH4S9",
        "colab": {
          "base_uri": "https://localhost:8080/"
        },
        "outputId": "e847d894-e6af-416d-ae66-3014bf52f773"
      },
      "execution_count": null,
      "outputs": [
        {
          "output_type": "stream",
          "name": "stdout",
          "text": [
            "{'smart', 'Ethereum', 'contract', 'on', 'second', 'platform', 'open-source', 'functionality', 'called', 'that', 'by', 'capitalization', 'be', 'Among', 'public', 'only', 'of', 'Vitalik', 'nodes', '.', 'Bitcoin', 'can', 'ledger', 'market', 'peer-to-peer', 'through', '2013', 'decentralized', 'are', 'cryptocurrency', 'cryptography', 'a', 'digital', 'transferred', 'Buterin', 'network', 'to', 'recorded', 'Ether', 'the', 'cryptocurrencies', 'verified', 'with', 'and', 'programmer', 'blockchain', 'distributed', 'was', ',', 'bitcoin', 'in', 'is', 'conceived', 'currency', 'transactions', 'native'}\n"
          ]
        }
      ]
    },
    {
      "cell_type": "code",
      "source": [
        "print(str_1_set-str_2_set)"
      ],
      "metadata": {
        "colab": {
          "base_uri": "https://localhost:8080/"
        },
        "id": "JcShl-sBH8n3",
        "outputId": "b969dda1-2caa-42cc-89f6-a8943bf64691"
      },
      "execution_count": null,
      "outputs": [
        {
          "output_type": "stream",
          "name": "stdout",
          "text": [
            "{'are', 'cryptography', 'digital', 'transferred', 'on', 'network', 'recorded', 'verified', 'called', 'that', 'be', 'public', 'distributed', 'bitcoin', 'nodes', 'currency', 'can', 'transactions', 'ledger', 'peer-to-peer', 'through'}\n"
          ]
        }
      ]
    },
    {
      "cell_type": "code",
      "source": [
        "set3 = str_1_set.union(str_2_set)\n",
        "print(set3)"
      ],
      "metadata": {
        "colab": {
          "base_uri": "https://localhost:8080/"
        },
        "id": "Ark60PboJFeu",
        "outputId": "2b56bc54-c774-4e6b-c6ef-23ff9df95256"
      },
      "execution_count": null,
      "outputs": [
        {
          "output_type": "stream",
          "name": "stdout",
          "text": [
            "{'smart', 'Ethereum', 'contract', 'on', 'second', 'platform', 'open-source', 'functionality', 'called', 'that', 'by', 'capitalization', 'be', 'Among', 'public', 'only', 'of', 'Vitalik', 'nodes', '.', 'Bitcoin', 'can', 'ledger', 'market', 'peer-to-peer', 'through', '2013', 'decentralized', 'are', 'cryptocurrency', 'cryptography', 'a', 'digital', 'transferred', 'Buterin', 'network', 'to', 'recorded', 'Ether', 'the', 'cryptocurrencies', 'verified', 'with', 'and', 'programmer', 'blockchain', 'distributed', 'was', ',', 'bitcoin', 'in', 'is', 'conceived', 'currency', 'transactions', 'native'}\n"
          ]
        }
      ]
    },
    {
      "cell_type": "markdown",
      "metadata": {
        "id": "KZi6Ykpy1K9E"
      },
      "source": [
        "# Question 4 (3pt) User-password using dict"
      ]
    },
    {
      "cell_type": "markdown",
      "metadata": {
        "id": "5tV1Wi1YwBlX"
      },
      "source": [
        "Write code that allow use to\n",
        "1. Create account by providing new username and  password and insert the pair in user_dict\n",
        "\n",
        "```\n",
        "Insert: test, 1234\n",
        "password_dict = {'test':1234}\n",
        "Insert: test1, 5678\n",
        "password_dict = {'test':1234,'test1':5678}\n",
        "Insert: test2, aaaa\n",
        "password_dict = {'test':'1234','test1':'5678','test2':'aaaa'}\n",
        "```\n",
        "\n",
        "2. Retrieve password from user_dict by inputting the correct username\n",
        "\n",
        "```\n",
        "Retrieve: test1\n",
        "⇒ 5678\n",
        "Retrieve: test\n",
        "⇒ 1234\n",
        "```\n",
        "\n",
        "3. Update password in user_dict by inputting the correct username and new password\n",
        "```\n",
        "Update: test2, 9999\n",
        "password_dict = {'test':'1234','test1':'5678','test2':'9999'}\n",
        "```"
      ]
    },
    {
      "cell_type": "code",
      "metadata": {
        "id": "-Je4kIwj0qsI",
        "colab": {
          "base_uri": "https://localhost:8080/"
        },
        "outputId": "3ee258d2-13c9-4b1b-b03e-8814597a144e"
      },
      "source": [
        "#creat-e account by providing new username and password and insert the pair in user_dict\n",
        "user_dict = {}\n",
        "user1,pass1 = input(\"Insert:\").split()\n",
        "user_dict.update({user1 : pass1}) \n",
        "print(user_dict)\n",
        "user2,pass2 = input(\"Insert:\").split()\n",
        "user_dict.update({user2 : pass2}) \n",
        "print(user_dict)\n",
        "user3,pass3 = input(\"Insert:\").split()\n",
        "user_dict.update({user3 : pass3}) \n",
        "print(user_dict)"
      ],
      "execution_count": 104,
      "outputs": [
        {
          "output_type": "stream",
          "name": "stdout",
          "text": [
            "Insert:test 1111\n",
            "{'test': '1111'}\n",
            "Insert:test1 2222\n",
            "{'test': '1111', 'test1': '2222'}\n",
            "Insert:test2 3333\n",
            "{'test': '1111', 'test1': '2222', 'test2': '3333'}\n"
          ]
        }
      ]
    },
    {
      "cell_type": "code",
      "source": [
        "#retrieve password from user_dict by inputting the correct username\n",
        "user_dict = {'test':'1234','test1':'5678','test2':'aaaa'}\n",
        "user = input(\"Retrieve :\")\n",
        "print(user_dict[user])\n"
      ],
      "metadata": {
        "id": "FCZDhfVvin_8",
        "colab": {
          "base_uri": "https://localhost:8080/"
        },
        "outputId": "6e626fde-31af-4843-b1b4-ba29e4733faf"
      },
      "execution_count": 99,
      "outputs": [
        {
          "output_type": "stream",
          "name": "stdout",
          "text": [
            "Retrieve :test\n",
            "1234\n"
          ]
        }
      ]
    },
    {
      "cell_type": "code",
      "source": [
        "#update password in user_dict by inputting the correct username and new password\n",
        "user_dict = {'test':'1234','test1':'5678','test2':'aaaa'}\n",
        "user,password = input(\"enter your username and password :\").split()\n",
        "user_dict.update([(user, password)])\n",
        "print(user_dict)"
      ],
      "metadata": {
        "id": "VDSziDFLKLEX",
        "colab": {
          "base_uri": "https://localhost:8080/"
        },
        "outputId": "33e84f60-18dc-4bad-8d01-3445bf8fda16"
      },
      "execution_count": 100,
      "outputs": [
        {
          "output_type": "stream",
          "name": "stdout",
          "text": [
            "enter your username and password :test 2222\n",
            "{'test': '2222', 'test1': '5678', 'test2': 'aaaa'}\n"
          ]
        }
      ]
    },
    {
      "cell_type": "markdown",
      "source": [
        "# Question 5 (1pt)\n",
        "1. Write code to create the collection variable with four strings 'Apple','Banana','Orange', 'Kiwi'as the following datatypes:\n",
        "- list\n",
        "- tuple\n",
        "- set\n",
        "2. Write code to  insert 'Kiwi' into variables of list, tuple, and set, and discuss the result\n",
        "- list\n",
        "- tuple\n",
        "- set\n"
      ],
      "metadata": {
        "id": "lSsxTWv26G8f"
      }
    },
    {
      "cell_type": "code",
      "source": [
        "list1 =  ['Apple','Banana','Orange']\n",
        "tuple1 = ('Apple','Banana','Orange')\n",
        "set1 = {'Apple','Banana','Orange'}"
      ],
      "metadata": {
        "id": "u1m7uG2QnNjJ"
      },
      "execution_count": null,
      "outputs": []
    },
    {
      "cell_type": "code",
      "source": [
        "\n",
        "list1 =  ['Apple','Banana','Orange']\n",
        "tuple1 = ('Apple','Banana','Orange')\n",
        "set1 = {'Apple','Banana','Orange'}\n",
        "#list\n",
        "list1.append(\"Kiwi\")\n",
        "print(list1)\n",
        "#tuple\n",
        "tuple2=(\"Kiwi\",)\n",
        "tuple3 = tuple1 + tuple2\n",
        "print(tuple3)\n",
        "#set\n",
        "set1.add(\"Kiwi\")\n",
        "print()"
      ],
      "metadata": {
        "id": "w2voNS3AoFAb",
        "colab": {
          "base_uri": "https://localhost:8080/"
        },
        "outputId": "e41edc48-4c36-413c-ea80-65101058635c"
      },
      "execution_count": 103,
      "outputs": [
        {
          "output_type": "stream",
          "name": "stdout",
          "text": [
            "['Apple', 'Banana', 'Orange', 'Kiwi']\n",
            "('Apple', 'Banana', 'Orange', 'Kiwi')\n"
          ]
        }
      ]
    },
    {
      "cell_type": "code",
      "source": [
        "del print"
      ],
      "metadata": {
        "id": "hWv4xpdAuSsD"
      },
      "execution_count": null,
      "outputs": []
    },
    {
      "cell_type": "code",
      "source": [
        ""
      ],
      "metadata": {
        "id": "RJp5_yEMAABU"
      },
      "execution_count": null,
      "outputs": []
    }
  ]
}